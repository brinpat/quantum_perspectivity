{
 "cells": [
  {
   "cell_type": "code",
   "execution_count": null,
   "metadata": {},
   "outputs": [],
   "source": [
    "pip install opencv-python"
   ]
  },
  {
   "cell_type": "code",
   "execution_count": null,
   "metadata": {},
   "outputs": [],
   "source": [
    "pip install matplotlib"
   ]
  },
  {
   "cell_type": "code",
   "execution_count": null,
   "metadata": {
    "id": "ts1t5VspMR8v"
   },
   "outputs": [],
   "source": [
    "import math\n",
    "import random\n",
    "import numpy as np\n",
    "import matplotlib.pyplot as plt\n",
    "from numpy.random import RandomState\n",
    "import pandas as pd"
   ]
  },
  {
   "cell_type": "markdown",
   "metadata": {},
   "source": [
    "# Generate Point Object file"
   ]
  },
  {
   "cell_type": "code",
   "execution_count": null,
   "metadata": {},
   "outputs": [],
   "source": [
    "pip install open3d"
   ]
  },
  {
   "cell_type": "code",
   "execution_count": null,
   "metadata": {},
   "outputs": [],
   "source": [
    "import numpy as np\n",
    "import open3d as o3d\n",
    "\n",
    "def use_o3d(pts, write_text):\n",
    "    pcd = o3d.geometry.PointCloud()\n",
    "\n",
    "    # the method Vector3dVector() will convert numpy array of shape (n, 3) to Open3D format.\n",
    "    # see http://www.open3d.org/docs/release/python_api/open3d.utility.Vector3dVector.html#open3d.utility.Vector3dVector\n",
    "    pcd.points = o3d.utility.Vector3dVector(pts)\n",
    "\n",
    "    # http://www.open3d.org/docs/release/python_api/open3d.io.write_point_cloud.html#open3d.io.write_point_cloud\n",
    "    o3d.io.write_point_cloud(\"points.ply\", pcd, write_ascii=write_text)\n",
    "\n",
    "    # read ply file\n",
    "    pcd = o3d.io.read_point_cloud('points.ply')\n",
    "\n",
    "    # visualize\n",
    "    o3d.visualization.draw_geometries([pcd])"
   ]
  },
  {
   "cell_type": "code",
   "execution_count": null,
   "metadata": {},
   "outputs": [],
   "source": [
    "# use_o3d(points,True)"
   ]
  },
  {
   "cell_type": "markdown",
   "metadata": {
    "id": "FXdoLq9TlRpE"
   },
   "source": [
    "## Functions"
   ]
  },
  {
   "cell_type": "code",
   "execution_count": null,
   "metadata": {
    "id": "_EOHe4H71EkV"
   },
   "outputs": [],
   "source": [
    "def calculate_action_probability(state):\n",
    "  exponentiated_potential = np.exp(-theta[state[0]][state[1]])\n",
    "  action_probability = 1/(exponentiated_potential+1)\n",
    "  return action_probability"
   ]
  },
  {
   "cell_type": "code",
   "execution_count": null,
   "metadata": {
    "id": "GvVsgbD25kTp"
   },
   "outputs": [],
   "source": [
    "def transition(state, action_probability, boundary):\n",
    "  rand = np.random.random()\n",
    "\n",
    "  if state[0] > boundary:\n",
    "    action = 0\n",
    "    action_probability = 1\n",
    "  elif state[0] < -boundary:\n",
    "    action = 1\n",
    "    action_probability = 1\n",
    "  else:\n",
    "    if rand < action_probability:\n",
    "      action = 1\n",
    "      action_probability = action_probability\n",
    "    else:\n",
    "      action = 0\n",
    "      action_probability = 1-action_probability\n",
    "  return action, action_probability"
   ]
  },
  {
   "cell_type": "code",
   "execution_count": null,
   "metadata": {
    "id": "7noM1x36ST0c"
   },
   "outputs": [],
   "source": [
    "def update_state(state, action):\n",
    "  state[0] += 2*action - 1\n",
    "  state[1] += 1\n",
    "  return state"
   ]
  },
  {
   "cell_type": "code",
   "execution_count": null,
   "metadata": {
    "id": "Z8UCVaLVD6Va"
   },
   "outputs": [],
   "source": [
    "def generate_reward(state, controlled_state_end, controlled_time):\n",
    "\n",
    "  #controlled_state = 20\n",
    "  #controlled_time = 20\n",
    "  controlled_multiplier = 2\n",
    "\n",
    "  if state[0] < 0:\n",
    "    reward = -1 * abs(state[0])\n",
    "  else:\n",
    "    reward = 0\n",
    "  if state[1] == controlled_time:\n",
    "    reward -=  controlled_multiplier * abs(controlled_state_end - state[0])\n",
    "  return reward"
   ]
  },
  {
   "cell_type": "code",
   "execution_count": null,
   "metadata": {
    "id": "WpBwwH8q4ubl"
   },
   "outputs": [],
   "source": [
    "def calculate_eligibility(state, action, action_probability):\n",
    "  if action == 1:\n",
    "    eligibility = 1 - action_probability\n",
    "  else:\n",
    "    eligibility = -action_probability\n",
    "  return eligibility"
   ]
  },
  {
   "cell_type": "code",
   "execution_count": null,
   "metadata": {
    "id": "PcqL0ZmbYti9"
   },
   "outputs": [],
   "source": [
    "def update_theta(state, next_state, reward, learning_rate, eligibility): #actor-critic\n",
    "  past_value = find_value(state)\n",
    "  current_value = find_value(next_state)\n",
    "  td_error = current_value + reward - past_value\n",
    "  theta[state[0]][state[1]] += learning_rate * td_error * eligibility\n",
    "  return theta"
   ]
  },
  {
   "cell_type": "code",
   "execution_count": null,
   "metadata": {
    "id": "dxmyzzs0vymQ"
   },
   "outputs": [],
   "source": [
    "def find_value(state):\n",
    "  return value_table[state[0]][state[1]]"
   ]
  },
  {
   "cell_type": "code",
   "execution_count": null,
   "metadata": {
    "id": "qAVOIB9hXXjE"
   },
   "outputs": [],
   "source": [
    "def update_value(state, next_state, reward, learning_rate_beta): #actor-critic\n",
    "  past_value = find_value(state)\n",
    "  current_value = find_value(next_state)\n",
    "  td_error = current_value + reward - past_value\n",
    "  value_table[state[0]][state[1]] += learning_rate_beta * td_error\n",
    "  return value_table"
   ]
  },
  {
   "cell_type": "code",
   "execution_count": null,
   "metadata": {
    "id": "j7fbG0EF7pxS"
   },
   "outputs": [],
   "source": [
    "def generate_samples(N, box_boundary, controlled_state_start, controlled_state_end, controlled_time):\n",
    "  trajectories = []\n",
    "  average_return = 0\n",
    "  for i in range(0, N):\n",
    "    state = [controlled_state_start,0]\n",
    "    trajectory = [state.copy()]\n",
    "    trajectory_reward = 0\n",
    "    for i in range (0,controlled_time):\n",
    "      action_probability = calculate_action_probability(state.copy())\n",
    "      action, action_probability = transition(state.copy(), action_probability, box_boundary)\n",
    "      next_state = update_state(state.copy(), action)\n",
    "      reward = generate_reward(next_state.copy(), controlled_state_end, controlled_time)\n",
    "      trajectory_reward += reward\n",
    "      state = next_state\n",
    "      trajectory.append(state.copy())\n",
    "    trajectories.append(trajectory.copy())\n",
    "    average_return += (trajectory_reward - average_return)/(i+1)\n",
    "  return trajectories, average_return"
   ]
  },
  {
   "cell_type": "markdown",
   "metadata": {
    "id": "PuAHdKy1Ucd0"
   },
   "source": [
    "## Gaussian dynamics"
   ]
  },
  {
   "cell_type": "code",
   "execution_count": null,
   "metadata": {
    "id": "zMw3Fcohje0J"
   },
   "outputs": [],
   "source": [
    "def gaussian_derivative(x,sigma):\n",
    "  Gaussian = np.exp(-x**2/sigma**2)*x/sigma**2\n",
    "  return Gaussian"
   ]
  },
  {
   "cell_type": "code",
   "execution_count": null,
   "metadata": {
    "id": "aBQj00Pojcs2"
   },
   "outputs": [],
   "source": [
    "def dynamics(a,zlim,steps,sigma):\n",
    "  N = 2*a\n",
    "  z = np.arange(-zlim,zlim,steps)\n",
    "  #z = ((z+zlim)/steps).astype(int)\n",
    "  f = gaussian_derivative(z,sigma)\n",
    "\n",
    "  pminus = (f+a)/N\n",
    "  pplus = (-f+a)/N\n",
    "\n",
    "  pminus[0] = 1\n",
    "  pplus[0] = 0.0001\n",
    "\n",
    "  pminus[-1] = 0.0001\n",
    "  pplus[-1] = 1\n",
    "\n",
    "  return z, pminus, pplus"
   ]
  },
  {
   "cell_type": "code",
   "execution_count": null,
   "metadata": {
    "id": "HuiTNA1HVeQI"
   },
   "outputs": [],
   "source": [
    "def kl_regularisation(state, action, action_probability):\n",
    "\n",
    "  z, pminus, pplus = dynamics(0.5, 10, 1/50, 1)\n",
    "\n",
    "  #plt.plot(z,pminus)\n",
    "  #plt.plot(z,pplus)\n",
    "  \n",
    "  if action == 1:\n",
    "    prob = pplus[state[0]]\n",
    "  else:\n",
    "    prob = pminus[state[0]]\n",
    "  #print(prob)\n",
    "\n",
    "  return -math.log(action_probability/prob)"
   ]
  },
  {
   "cell_type": "code",
   "execution_count": null,
   "metadata": {
    "colab": {
     "base_uri": "https://localhost:8080/",
     "height": 296
    },
    "id": "XCSlX5vKVeQK",
    "outputId": "d07a5d60-00a8-450a-c947-e495670a74d5"
   },
   "outputs": [],
   "source": [
    "z, p1, p2 = dynamics(0.5, 10, 1/50, 1)\n",
    "\n",
    "plt.plot(z,p1)\n",
    "plt.plot(z,p2)\n",
    "\n",
    "plt.xlabel('z')\n",
    "plt.ylabel('P')"
   ]
  },
  {
   "cell_type": "markdown",
   "metadata": {
    "id": "4yAxXkvtUOk2"
   },
   "source": [
    "##Actor-Critic algorithm"
   ]
  },
  {
   "cell_type": "code",
   "execution_count": null,
   "metadata": {
    "id": "M_4pBqkPUguz"
   },
   "outputs": [],
   "source": [
    "def actor_critic(N, avg, box_boundary, controlled_state_start, controlled_state_end, controlled_time):\n",
    "  trajectories = []\n",
    "  trajectory_rewards = [] #stores trajectory rewards\n",
    "  running_average_return = [] #store running average return\n",
    "  for i in range(0, N):\n",
    "    state = [controlled_state_start,0]\n",
    "    trajectory = [state.copy()]\n",
    "    actions = []\n",
    "    rewards = []\n",
    "    eligibilities = []\n",
    "    action_probabilities = []\n",
    "    trajectory_reward = 0\n",
    "    for i in range (0,controlled_time):\n",
    "      action_probability = calculate_action_probability(state.copy())\n",
    "\n",
    "      action, action_probability = transition(state.copy(), action_probability, box_boundary)\n",
    "      actions.append(action) #store actions\n",
    "      action_probabilities.append(action_probability) #store action probabilities\n",
    "\n",
    "      eligibility = calculate_eligibility(state.copy(), action, action_probability)\n",
    "      eligibilities.append(eligibility) #store eligibilities\n",
    "      \n",
    "      next_state = update_state(state.copy(), action)\n",
    "  \n",
    "      reward = generate_reward(next_state.copy(), controlled_state_end, controlled_time)#+ kl_regularisation(state, action, action_probability)\n",
    "      rewards.append(reward) #store rewards\n",
    "\n",
    "      trajectory_reward += reward \n",
    "\n",
    "      #update the value for past state\n",
    "      update_value(state, next_state, reward, learning_rate_beta)\n",
    "\n",
    "      #update theta\n",
    "      update_theta(state, next_state, reward, learning_rate, eligibility)\n",
    "\n",
    "      state = next_state #set next state as state\n",
    "      trajectory.append(state.copy()) #add next state to trajectory\n",
    "\n",
    "    trajectories.append(trajectory.copy()) #append trajectory to global list\n",
    "    trajectory_rewards.append(trajectory_reward) # append reward for trajectory\n",
    "\n",
    "    #average_return\n",
    "    avg += return_learning_rate * (trajectory_reward - avg)\n",
    "    running_average_return.append(avg)\n",
    "\n",
    "  return trajectory_rewards, running_average_return"
   ]
  },
  {
   "cell_type": "markdown",
   "metadata": {
    "id": "umK0RVW-hoLd"
   },
   "source": [
    "##Untrained Policy"
   ]
  },
  {
   "cell_type": "markdown",
   "metadata": {
    "id": "8gOQD0XP3Jft"
   },
   "source": [
    "Set variables"
   ]
  },
  {
   "cell_type": "code",
   "execution_count": null,
   "metadata": {
    "id": "fX6esMg27lLZ"
   },
   "outputs": [],
   "source": [
    "T = 20  # Longer time = more possible combinations so better encryption\n",
    "start_state = 20\n",
    "end_state = 20\n",
    "\n",
    "dimensions = (2*T+1,T+1)\n",
    "theta = np.zeros(dimensions)\n",
    "\n",
    "Nbody = 304  #1166\n",
    "xlimit = 700\n",
    "ylimit = 400\n",
    "zlimit = 400\n",
    "\n",
    "xuntrained, xavg = generate_samples(Nbody, xlimit, start_state, end_state, T)"
   ]
  },
  {
   "cell_type": "code",
   "execution_count": null,
   "metadata": {
    "id": "MbQozRC_iiMO"
   },
   "outputs": [],
   "source": [
    "theta = np.zeros(dimensions)\n",
    "yuntrained, yavg = generate_samples(Nbody, ylimit, start_state, end_state, T)"
   ]
  },
  {
   "cell_type": "code",
   "execution_count": null,
   "metadata": {
    "id": "9UosvdOu_ujY"
   },
   "outputs": [],
   "source": [
    "theta = np.zeros(dimensions)\n",
    "zuntrained, zavg = generate_samples(Nbody, zlimit, start_state, end_state, T)"
   ]
  },
  {
   "cell_type": "code",
   "execution_count": null,
   "metadata": {
    "colab": {
     "base_uri": "https://localhost:8080/",
     "height": 305
    },
    "id": "1cKaKkMFm6H2",
    "outputId": "be71980a-a7ee-4682-9eae-04e8c7cb05b5"
   },
   "outputs": [],
   "source": [
    "min_y = np.min(np.array(xuntrained)[:,:,0]) - 1\n",
    "max_y = np.max(np.array(xuntrained)[:,:,0]) + 1\n",
    "\n",
    "plt.plot(np.array(xuntrained)[:,:,0].T, c = 'k', alpha = 0.2)\n",
    "plt.scatter([T], [end_state], c = 'k', marker = 'o', s = 100)\n",
    "plt.plot([-1, T+1], [0, 0], lw = 2, c = 'r', ls = '--', alpha = 0.3)\n",
    "plt.fill_between([-1, T+1], [0, 0], [min_y, min_y], color = 'r', alpha = 0.1)\n",
    "plt.xlim(-1, T+1)\n",
    "plt.ylim(min_y)\n",
    "plt.xlabel(\"Time\", fontsize=16)\n",
    "plt.ylabel(\"Position\", fontsize=16)\n",
    "plt.xticks(fontsize=12)\n",
    "plt.yticks(fontsize=14)\n",
    "plt.show()\n",
    "\n",
    "print(\"Average return of initial policy:\", xavg)"
   ]
  },
  {
   "cell_type": "markdown",
   "metadata": {
    "id": "Jwa96uS2kJ-P"
   },
   "source": [
    "##Train actor-critic"
   ]
  },
  {
   "cell_type": "markdown",
   "metadata": {
    "id": "75IawTxl3DG0"
   },
   "source": [
    "Set variables"
   ]
  },
  {
   "cell_type": "code",
   "execution_count": null,
   "metadata": {
    "id": "Fur97gBDkJ-Q"
   },
   "outputs": [],
   "source": [
    "#from locale import T_FMT\n",
    "learning_rate = 0.15\n",
    "learning_rate_beta = 0.6\n",
    "return_learning_rate = 0.1\n",
    "N = 10000"
   ]
  },
  {
   "cell_type": "code",
   "execution_count": null,
   "metadata": {},
   "outputs": [],
   "source": [
    "theta = np.zeros(dimensions)\n",
    "value_table = np.zeros(dimensions)\n",
    "\n",
    "xac_rewards, xac_running_return = actor_critic(N, xavg, xlimit, start_state, end_state, T)\n",
    "xtrained, xtrained_avg = generate_samples(Nbody, xlimit, start_state, end_state, T)"
   ]
  },
  {
   "cell_type": "code",
   "execution_count": null,
   "metadata": {
    "id": "O5NgSNfDih0Z"
   },
   "outputs": [],
   "source": [
    "theta = np.zeros(dimensions)\n",
    "value_table = np.zeros(dimensions)\n",
    "\n",
    "yac_rewards, yac_running_return = actor_critic(N, yavg, ylimit, start_state, end_state, T)\n",
    "ytrained, ytrained_avg = generate_samples(Nbody, ylimit, start_state, end_state, T)"
   ]
  },
  {
   "cell_type": "code",
   "execution_count": null,
   "metadata": {
    "id": "jxMGJ5mc_kMl"
   },
   "outputs": [],
   "source": [
    "theta = np.zeros(dimensions)\n",
    "value_table = np.zeros(dimensions)\n",
    "\n",
    "zac_rewards, zac_running_return = actor_critic(N, zavg, zlimit, start_state, end_state, T)\n",
    "ztrained, ztrained_avg = generate_samples(Nbody, zlimit, start_state, end_state, T)"
   ]
  },
  {
   "cell_type": "markdown",
   "metadata": {
    "id": "n_wnxbIc3P4F"
   },
   "source": [
    "Plot episodic returns"
   ]
  },
  {
   "cell_type": "code",
   "execution_count": null,
   "metadata": {
    "colab": {
     "base_uri": "https://localhost:8080/",
     "height": 296
    },
    "id": "7M3BzlY53ZH2",
    "outputId": "57e9b63e-2839-43b3-a49e-5cae23ee1af7"
   },
   "outputs": [],
   "source": [
    "plt.plot(xac_rewards, c = 'b', alpha = 1)\n",
    "plt.xlabel(\"Episode\")\n",
    "plt.ylabel(\"Episodic returns\")"
   ]
  },
  {
   "cell_type": "markdown",
   "metadata": {
    "id": "z04vwGHv3hI5"
   },
   "source": [
    "Plot running returns"
   ]
  },
  {
   "cell_type": "code",
   "execution_count": null,
   "metadata": {
    "colab": {
     "base_uri": "https://localhost:8080/",
     "height": 279
    },
    "id": "TEXhfkg83mCr",
    "outputId": "0454a377-ef75-452e-ae5c-5a874d58238a"
   },
   "outputs": [],
   "source": [
    "plt.plot(xac_running_return, c = 'b', alpha = 1)\n",
    "plt.xlabel(\"Episode\")\n",
    "plt.ylabel(\"Running return\")\n",
    "plt.show()"
   ]
  },
  {
   "cell_type": "markdown",
   "metadata": {
    "id": "pgqbJxUK3sdz"
   },
   "source": [
    "Plot optimised policy trajectories with updated theta, plot 30 trajectories and compare to untrained policy"
   ]
  },
  {
   "cell_type": "code",
   "execution_count": null,
   "metadata": {
    "colab": {
     "base_uri": "https://localhost:8080/",
     "height": 331
    },
    "id": "f5hLl0Hi5gwV",
    "outputId": "abad68db-3ac8-46fc-a53a-0411384e1fcf"
   },
   "outputs": [],
   "source": [
    "min_y = np.min(np.array(xtrained)[:,:,0]) - 1\n",
    "max_y = np.max(np.array(xtrained)[:,:,0]) + 1\n",
    "\n",
    "plt.plot(np.array(xuntrained)[:,:,0].T, c = 'k', alpha = 0.2)\n",
    "plt.plot(np.array(xtrained)[:,:,0].T, c = 'b', alpha = 0.2)\n",
    "plt.plot([-1, T+1], [0, 0], lw = 2, c = 'r', ls = '--', alpha = 0.3)\n",
    "plt.scatter([T], [end_state], c = 'k', marker = 'o', s = 100)\n",
    "plt.fill_between([-1, T+1], [0, 0], [-10, -10], color = 'r', alpha = 0.1)\n",
    "plt.xlim(-1, T+1)\n",
    "plt.ylim(-10)\n",
    "plt.xlabel(\"Time\")\n",
    "plt.ylabel(\"Position\")\n",
    "# plt.xticks(fontsize=16)\n",
    "# plt.yticks(fontsize=16)\n",
    "plt.show()\n",
    "\n",
    "print(\"Average return x:\", xtrained_avg)\n",
    "print(\"Average return y:\", ytrained_avg)\n",
    "print(\"Average return z:\", ztrained_avg)"
   ]
  },
  {
   "cell_type": "markdown",
   "metadata": {},
   "source": [
    "# 2D"
   ]
  },
  {
   "cell_type": "code",
   "execution_count": null,
   "metadata": {
    "colab": {
     "base_uri": "https://localhost:8080/",
     "height": 282
    },
    "id": "47cp8ucBRBxv",
    "outputId": "30e59b58-3da4-4d88-990d-80f8ce6677e1"
   },
   "outputs": [],
   "source": [
    "from IPython.display import clear_output\n",
    "import matplotlib.pyplot as plt\n",
    "from numpy.random import randn\n",
    "from time import sleep\n",
    "\n",
    "for t in range(0,T+1,T//10):\n",
    "\n",
    "  print(t)\n",
    "  plt.scatter(np.array(xtrained)[:,t,0].T,np.array(ytrained)[:,t,0].T, alpha = 0.1)\n",
    "  plt.xlim(-5, 75)\n",
    "  plt.ylim(-5, 45)\n",
    "  plt.show()\n",
    "\n",
    "  sleep(10/T)\n",
    "  clear_output(wait=True)\n",
    "  \n",
    "  "
   ]
  },
  {
   "cell_type": "code",
   "execution_count": null,
   "metadata": {
    "colab": {
     "base_uri": "https://localhost:8080/"
    },
    "id": "cTv-kDBuppqb",
    "outputId": "136dc4e6-d02e-4382-de4b-eae84f609fad"
   },
   "outputs": [],
   "source": [
    "np.array(xtrained)[:,:,0]"
   ]
  },
  {
   "cell_type": "code",
   "execution_count": null,
   "metadata": {
    "colab": {
     "base_uri": "https://localhost:8080/"
    },
    "id": "IWTc3LXjrcOp",
    "outputId": "054c4a2d-3e16-4977-b100-4104823d9e1a"
   },
   "outputs": [],
   "source": [
    "np.array(ytrained)[:,:,0]"
   ]
  },
  {
   "cell_type": "markdown",
   "metadata": {
    "id": "q4xUJ618DMoV"
   },
   "source": [
    "# 3D"
   ]
  },
  {
   "cell_type": "code",
   "execution_count": null,
   "metadata": {
    "id": "j6usYNc6Dms3"
   },
   "outputs": [],
   "source": [
    "import matplotlib.animation as animation"
   ]
  },
  {
   "cell_type": "code",
   "execution_count": null,
   "metadata": {
    "id": "_nxFHUMhDa5F"
   },
   "outputs": [],
   "source": [
    "from matplotlib import rc\n",
    "rc('animation', html='jshtml')"
   ]
  },
  {
   "cell_type": "code",
   "execution_count": null,
   "metadata": {
    "colab": {
     "base_uri": "https://localhost:8080/",
     "height": 387
    },
    "id": "obcP1LMJ_5IK",
    "outputId": "93ffd235-3472-4ecf-8b76-eebd6c8a9a22",
    "scrolled": true
   },
   "outputs": [],
   "source": [
    "fig = plt.figure()\n",
    "ax = plt.axes(projection='3d')\n",
    "\n",
    "t = 0\n",
    "\n",
    "def frame(w):\n",
    "  ax.clear()\n",
    "  global t\n",
    "\n",
    "  x=(np.array(xtrained)[:,t,0].T-20)\n",
    "  y=(np.array(ytrained)[:,t,0].T-20)\n",
    "  z=np.array(ztrained)[:,t,0].T-20\n",
    "\n",
    "  ax.set_xlim3d(-20, 20)\n",
    "  ax.set_ylim3d(-20, 20)\n",
    "  ax.set_zlim3d(-20, 20)\n",
    "  plot = ax.scatter3D(x,y,z, alpha = 0.5)\n",
    "\n",
    "  t+=T//10\n",
    "\n",
    "  return plot\n",
    "plt.close()\n",
    "\n",
    "anim = animation.FuncAnimation(fig, frame, frames=10, blit=False, repeat=True)\n",
    "anim"
   ]
  },
  {
   "cell_type": "markdown",
   "metadata": {
    "id": "oRZjJWkJ4i_a"
   },
   "source": [
    "# Ordered trajectories"
   ]
  },
  {
   "cell_type": "code",
   "execution_count": null,
   "metadata": {
    "colab": {
     "base_uri": "https://localhost:8080/"
    },
    "id": "wxnUr4WIIIkN",
    "outputId": "03043dbc-7648-45ac-b926-a693a87e0f5a"
   },
   "outputs": [],
   "source": [
    "%cd C:\\Users\\brinp\\Documents\\Jupyter\\Quantum Machine Learning\\Quantum machine encryption"
   ]
  },
  {
   "cell_type": "code",
   "execution_count": null,
   "metadata": {
    "colab": {
     "base_uri": "https://localhost:8080/"
    },
    "id": "-rAwGUDlHPJL",
    "outputId": "53137cbe-a774-4769-a907-d008298f2ba3"
   },
   "outputs": [],
   "source": [
    "ordered_orig = pd.read_excel('orderR.xlsx')\n",
    "random_orig = pd.read_excel('SameRmussel.xlsx')\n",
    "random_orig['Center Z'] = np.round(20*np.random.rand(304),4)\n",
    "random_orig"
   ]
  },
  {
   "cell_type": "code",
   "execution_count": null,
   "metadata": {
    "colab": {
     "base_uri": "https://localhost:8080/"
    },
    "id": "ylybhFH-IkBW",
    "outputId": "71d6cad5-73fa-49b1-dd89-d9d55d9e7a32"
   },
   "outputs": [],
   "source": [
    "plt.scatter(ordered_orig['Center X'], ordered_orig['Center Y'], s = ordered_orig['Radius'])\n",
    "plt.scatter(random_orig['Center X'], random_orig['Center Y'], s = random_orig['Radius'])"
   ]
  },
  {
   "cell_type": "code",
   "execution_count": null,
   "metadata": {
    "id": "Hh37n2v04oLj"
   },
   "outputs": [],
   "source": [
    "order_xMatrix = np.vstack([ordered_orig['Center X']]*(T+1))\n",
    "order_yMatrix = np.vstack([ordered_orig['Center Y']]*(T+1))\n",
    "order_zMatrix = np.vstack([ordered_orig['Center Y']]*(T+1))\n",
    "\n",
    "order_xtrained = np.transpose(order_xMatrix) + np.array(xtrained)[:,:,0] -20\n",
    "order_ytrained = np.transpose(order_yMatrix) + np.array(ytrained)[:,:,0] -20\n",
    "order_ztrained = np.transpose(order_zMatrix) + np.array(ztrained)[:,:,0] -20"
   ]
  },
  {
   "cell_type": "code",
   "execution_count": null,
   "metadata": {},
   "outputs": [],
   "source": [
    "t = 0\n",
    "\n",
    "plt.scatter(np.array(order_xtrained)[:,t].T,np.array(order_ytrained)[:,t].T)"
   ]
  },
  {
   "cell_type": "code",
   "execution_count": null,
   "metadata": {
    "colab": {
     "base_uri": "https://localhost:8080/"
    },
    "id": "zJxvjuKw8EVQ",
    "outputId": "56e4f0f6-7db5-4110-818f-eb074c2b2dbe"
   },
   "outputs": [],
   "source": [
    "for t in range(0,T+1,T//10):\n",
    "\n",
    "  print(t)\n",
    "  plt.scatter(np.array(order_xtrained)[:,t].T,np.array(order_ytrained)[:,t].T)\n",
    "  plt.xlim(-5, 75)\n",
    "  plt.ylim(-5, 45)\n",
    "  plt.show()\n",
    "\n",
    "  sleep(10/T)\n",
    "  clear_output(wait=True)"
   ]
  },
  {
   "cell_type": "code",
   "execution_count": null,
   "metadata": {
    "id": "PXevdm5Jcor9"
   },
   "outputs": [],
   "source": [
    "# 2D distances"
   ]
  },
  {
   "cell_type": "code",
   "execution_count": null,
   "metadata": {
    "colab": {
     "base_uri": "https://localhost:8080/"
    },
    "id": "hoGY4pcx-Ta3",
    "outputId": "26ed1860-c0b4-4969-a72d-814a8cef917b"
   },
   "outputs": [],
   "source": [
    "most_random = 0*np.ones([304,21])\n",
    "\n",
    "distance = ((most_random - np.transpose(order_xMatrix))**2 + (most_random - np.transpose(order_yMatrix))**2)**0.5\n",
    "\n",
    "distance_sum = np.sum(distance**2, axis = 0)\n",
    "order_amount = (distance_sum / (Nbody**0.5 *(40**2+70**2)))**0.5  # amount of order\n",
    "np.round(order_amount,3)/2.318"
   ]
  },
  {
   "cell_type": "code",
   "execution_count": null,
   "metadata": {
    "colab": {
     "base_uri": "https://localhost:8080/"
    },
    "id": "sthPNcwGc10f",
    "outputId": "ef1ca7db-233a-404f-c9d8-4fe85f52b3c1"
   },
   "outputs": [],
   "source": [
    "distance = ((order_xtrained - np.transpose(order_xMatrix))**2 + (order_ytrained - np.transpose(order_yMatrix))**2)**0.5\n",
    "\n",
    "distance_sum = np.sum(distance**2, axis = 0)\n",
    "order_amount = (distance_sum / (Nbody**0.5 *(40**2+70**2)))**0.5  # amount of order\n",
    "np.round(order_amount,3)/2.318"
   ]
  },
  {
   "cell_type": "code",
   "execution_count": null,
   "metadata": {
    "id": "_WrLkODgg3wq",
    "scrolled": true
   },
   "outputs": [],
   "source": [
    "pd.DataFrame(order_xtrained).to_excel('x.xlsx')\n",
    "pd.DataFrame(order_ytrained).to_excel('y.xlsx')\n",
    "pd.DataFrame(order_amount).to_excel('order_amount.xlsx')"
   ]
  },
  {
   "cell_type": "markdown",
   "metadata": {
    "id": "5iXuwp9AcrA8"
   },
   "source": [
    "# 3D"
   ]
  },
  {
   "cell_type": "code",
   "execution_count": null,
   "metadata": {
    "colab": {
     "base_uri": "https://localhost:8080/",
     "height": 387
    },
    "id": "ML8wI4tmHE1V",
    "outputId": "9bd71f2e-488c-4914-a972-919a02eb27ba"
   },
   "outputs": [],
   "source": [
    "fig = plt.figure()\n",
    "ax = plt.axes(projection='3d')\n",
    "\n",
    "t = 0\n",
    "\n",
    "def frame(w):\n",
    "  ax.clear()\n",
    "  global t\n",
    "\n",
    "  x=np.array(order_xtrained)[:,t].T\n",
    "  y=np.array(order_ytrained)[:,t].T\n",
    "  z=np.array(order_ztrained)[:,t].T\n",
    "\n",
    "  ax.set_xlim3d(-5, 75)\n",
    "  ax.set_ylim3d(-5, 45)\n",
    "  ax.set_zlim3d(-5, 45)\n",
    "  plot = ax.scatter3D(x,y,z, alpha = 0.5)\n",
    "\n",
    "  t+=T//10\n",
    "\n",
    "  return plot\n",
    "\n",
    "plt.close()\n",
    "\n",
    "anim = animation.FuncAnimation(fig, frame, frames=10, blit=False, repeat=True)\n",
    "anim"
   ]
  },
  {
   "cell_type": "markdown",
   "metadata": {
    "id": "ZUqRhK2lBLb8"
   },
   "source": [
    "# Generator"
   ]
  },
  {
   "cell_type": "markdown",
   "metadata": {
    "id": "FPn38hr4Jcuz"
   },
   "source": [
    "## 2D"
   ]
  },
  {
   "cell_type": "code",
   "execution_count": null,
   "metadata": {},
   "outputs": [],
   "source": [
    "import numpy as np\n",
    "import matplotlib.pyplot as plt\n",
    "\n",
    "order = 1\n",
    "\n",
    "# specify params\n",
    "n = Nbody\n",
    "shape = np.array([40, 70])\n",
    "sensitivity = 0.8 # 0 means no movement, 1 means max distance is init_dist\n",
    "\n",
    "# compute grid shape based on number of points\n",
    "width_ratio = shape[1] / shape[0]\n",
    "num_y = np.int32(np.sqrt(n / width_ratio)) + 1\n",
    "num_x = np.int32(n / num_y) + 1\n",
    "\n",
    "# create regularly spaced neurons\n",
    "x = np.linspace(0., shape[1]-1, num_x, dtype=np.float32)\n",
    "y = np.linspace(0., shape[0]-1, num_y, dtype=np.float32)\n",
    "coords = np.stack(np.meshgrid(x, y), -1).reshape(-1,2)\n",
    "\n",
    "# compute spacing\n",
    "init_dist = np.min((x[1]-x[0], y[1]-y[0]))\n",
    "min_dist = init_dist * (1 - sensitivity)\n",
    "\n",
    "assert init_dist >= min_dist\n",
    "print(min_dist)\n",
    "\n",
    "# perturb points\n",
    "max_movement = order*(init_dist - min_dist)/2\n",
    "noise = np.random.uniform(\n",
    "    low=-max_movement,\n",
    "    high=max_movement,\n",
    "    size=(len(coords), 2))\n",
    "coords += noise\n",
    "\n",
    "# plot\n",
    "plt.figure(figsize=(5*width_ratio,5))\n",
    "plt.scatter(coords[:,0], coords[:,1], s=3)\n",
    "plt.show()"
   ]
  },
  {
   "cell_type": "code",
   "execution_count": null,
   "metadata": {
    "id": "29H8r7M2BPY3"
   },
   "outputs": [],
   "source": [
    "def generator2D(xdata, ydata, order):\n",
    "    \n",
    "    # https://stackoverflow.com/questions/66238749/how-to-find-the-closest-coordinate-from-a-list-of-points\n",
    "    \n",
    "  amount = len(xdata)\n",
    "\n",
    "  x_random = np.random.uniform(low=0, high=70, size=(amount))\n",
    "  y_random = np.random.uniform(low=0, high=40, size=(amount))\n",
    "    \n",
    "  most_random = np.random.random()*np.ones([amount,21])\n",
    "  distance_rand = ((most_random - np.transpose(order_xMatrix))**2 + (most_random - np.transpose(order_yMatrix))**2)**0.5\n",
    "  distance_sum_rand = np.sum(distance_rand**2, axis = 0)\n",
    "  order_amount = (distance_sum_rand / (Nbody**0.5 *((max(xdata)-min(xdata))**2+(max(ydata)-min(ydata))**2)))**0.5  # amount of order\n",
    "  most_random_factor = np.round(order_amount[0],3)\n",
    "    \n",
    "  \n",
    "  distance_sum = amount*order*most_random_factor*((max(xdata)-min(xdata))**2+(max(ydata)-min(ydata))**2)**0.5  # amount of order\n",
    "  \n",
    "  av_distance = distance_sum/amount\n",
    "\n",
    "  distance = av_distance*np.random.rand(amount)\n",
    "  \n",
    "  theta = 2*np.pi *np.random.rand(amount)\n",
    "\n",
    "  xdist = abs(distance*abs(np.transpose(np.cos(theta))))\n",
    "  ydist = abs(distance*abs(np.transpose(np.sin(theta))))\n",
    "\n",
    "\n",
    "  genx = (most_random_factor - order*most_random_factor)*(xdata + xdist)/most_random_factor\n",
    "  geny = (most_random_factor - order*most_random_factor)*(ydata + ydist)/most_random_factor\n",
    "  \n",
    "  return genx, geny"
   ]
  },
  {
   "cell_type": "code",
   "execution_count": null,
   "metadata": {
    "colab": {
     "base_uri": "https://localhost:8080/",
     "height": 285
    },
    "id": "Cqp9yRkBI904",
    "outputId": "f401e5f2-2069-4184-d98e-47cf320d1f1e"
   },
   "outputs": [],
   "source": [
    "order = 0.5\n",
    "\n",
    "xg, yg = generator2D(ordered_orig['Center X'], ordered_orig['Center Y'],order)\n",
    "\n",
    "plt.scatter(xg, yg)\n",
    "\n",
    "#pd.DataFrame([xg, yg]).to_excel('2DGen/2Dgen_order_'+str(order)+'.xlsx')"
   ]
  },
  {
   "cell_type": "markdown",
   "metadata": {
    "id": "YuphGvDYJe7T"
   },
   "source": [
    "## 3D"
   ]
  },
  {
   "cell_type": "code",
   "execution_count": null,
   "metadata": {
    "id": "bjA8QIy3Jgc6"
   },
   "outputs": [],
   "source": [
    "def generator3D(xdata, ydata, zdata, order):\n",
    "  \n",
    "  amount = len(xdata)\n",
    "  most_random = 0*np.ones([amount,21])\n",
    "  distance_rand = ((most_random - np.transpose(order_xMatrix))**2 + (most_random - np.transpose(order_yMatrix))**2+ (most_random - np.transpose(order_zMatrix))**2)**0.5\n",
    "  distance_sum_rand = np.sum(distance_rand**2, axis = 0)\n",
    "  order_amount = (distance_sum_rand / (Nbody**0.5 *((max(xdata)-min(xdata))**2+(max(ydata)-min(ydata))**2+(max(zdata)-min(zdata))**2)))**0.5  # amount of order\n",
    "  most_random_factor = np.round(order_amount[0],3)\n",
    "  \n",
    "  distance_sum = amount*order*most_random_factor*((max(xdata)-min(xdata))**2+(max(ydata)-min(ydata))**2+(max(zdata)-min(zdata))**2)**0.5  # amount of order\n",
    "  \n",
    "  av_distance = distance_sum/amount\n",
    "\n",
    "  distance = av_distance*np.random.rand(amount)\n",
    "  \n",
    "  theta = 2*np.pi *np.random.rand(amount)\n",
    "  phi = 2*np.pi *np.random.rand(amount) - np.pi\n",
    "\n",
    "  # spherical coordinates\n",
    "  xdist = abs(distance*abs(np.transpose(np.cos(theta)*np.sin(phi))))\n",
    "  ydist = abs(distance*abs(np.transpose(np.sin(theta)*np.sin(phi))))\n",
    "  zdist = abs(distance*abs(np.transpose(np.cos(phi))))\n",
    "\n",
    "  genx = (most_random_factor - order*most_random_factor)*(xdata + xdist)/most_random_factor\n",
    "  geny = (most_random_factor - order*most_random_factor)*(ydata + ydist)/most_random_factor\n",
    "  genz = (most_random_factor - order*most_random_factor)*(zdata + zdist)/most_random_factor\n",
    "  \n",
    "  return genx, geny, genz"
   ]
  },
  {
   "cell_type": "code",
   "execution_count": null,
   "metadata": {
    "colab": {
     "base_uri": "https://localhost:8080/",
     "height": 265
    },
    "id": "WQ2JRKF2LPIi",
    "outputId": "343f7035-45a6-488d-802d-4b080df94072"
   },
   "outputs": [],
   "source": [
    "order = 0\n",
    "\n",
    "xg, yg, zg = generator3D(ordered_orig['Center X'],ordered_orig['Center Y'],ordered_orig['Center Y'],order)\n",
    "\n",
    "fig = plt.figure()\n",
    "ax = plt.axes(projection='3d')\n",
    "\n",
    "ax.scatter3D(xg,yg,zg)"
   ]
  },
  {
   "cell_type": "markdown",
   "metadata": {
    "id": "zz-_YpJYM_Qj"
   },
   "source": [
    "# 3D diffusion to ordered"
   ]
  },
  {
   "cell_type": "code",
   "execution_count": null,
   "metadata": {},
   "outputs": [],
   "source": [
    "def fibonacci_hyperbola(samples, amplitude, xc, yc, zc):\n",
    "\n",
    "    points = []\n",
    "    phi = np.pi * (3. - np.sqrt(5.))  # golden angle in radians\n",
    "\n",
    "    for i in range(samples):\n",
    "        y = amplitude[i]*(1 - (i / float(samples - 1)) * 2)  # y goes from 1 to -1\n",
    "        radius = np.sqrt(y**2 *amplitude[i]**2 - y)  # radius at y\n",
    "\n",
    "        theta = phi * i  # golden angle increment\n",
    "\n",
    "        x = np.cos(theta) * radius\n",
    "        z = np.sin(theta) * radius \n",
    "\n",
    "        points.append((x+xc, y+yc, z+zc))\n",
    "\n",
    "    return points"
   ]
  },
  {
   "cell_type": "code",
   "execution_count": null,
   "metadata": {},
   "outputs": [],
   "source": [
    "def fibonacci(samples, amplitude, xc, yc, zc):\n",
    "\n",
    "    points = []\n",
    "    phi = np.pi * (3. - np.sqrt(5.))  # golden angle in radians\n",
    "\n",
    "    for i in range(samples):\n",
    "        y = amplitude[i]*(1 - (i / float(samples - 1)) * 2)  # y goes from 1 to -1\n",
    "        radius = (y**-1 * amplitude[i]**-2 - y)  # radius at y\n",
    "\n",
    "        theta = phi * i  # golden angle increment\n",
    "\n",
    "        x = np.cos(theta) * radius\n",
    "        z = np.sin(theta) * radius \n",
    "\n",
    "        points.append((x+xc, y+yc, z+zc))\n",
    "\n",
    "    return points"
   ]
  },
  {
   "cell_type": "markdown",
   "metadata": {
    "id": "0h1cJtaVgADl"
   },
   "source": [
    "## Sphere creator"
   ]
  },
  {
   "cell_type": "code",
   "execution_count": null,
   "metadata": {
    "id": "TG6yxWhAVQQP"
   },
   "outputs": [],
   "source": [
    "def fibonacci_sphere(samples, amplitude, xc, yc, zc):\n",
    "\n",
    "    points = []\n",
    "    phi = np.pi * (3. - np.sqrt(5.))  # golden angle in radians\n",
    "\n",
    "    for i in range(samples):\n",
    "        y = amplitude[i]*(1 - (i / float(samples - 1)) * 2)  # y goes from 1 to -1\n",
    "        radius = np.sqrt(amplitude[i]**2 - y * y)  # radius at y\n",
    "\n",
    "        theta = phi * i  # golden angle increment\n",
    "\n",
    "        x = np.cos(theta) * radius\n",
    "        z = np.sin(theta) * radius\n",
    "\n",
    "        points.append((x+xc, y+yc, z+zc))\n",
    "\n",
    "    return points"
   ]
  },
  {
   "cell_type": "markdown",
   "metadata": {},
   "source": [
    "Cube Creator"
   ]
  },
  {
   "cell_type": "code",
   "execution_count": null,
   "metadata": {},
   "outputs": [],
   "source": [
    "def fibonacci_cube(samples, amplitude, xc, yc, zc):\n",
    "\n",
    "    points = []\n",
    "    phi = np.pi * (3. - np.sqrt(5.))  # golden angle in radians\n",
    "\n",
    "    for i in range(samples):\n",
    "        y = amplitude[i]*(1 - (i / float(samples - 1)) * 2)  # y goes from 1 to -1\n",
    "        radius = np.sqrt(amplitude[i]**2 - y * y)  # radius at y\n",
    "\n",
    "        theta = phi * i  # golden angle increment\n",
    "\n",
    "        x = np.cos(theta) * radius\n",
    "        z = np.sin(theta) * radius\n",
    "\n",
    "        points.append((x+xc, y+yc, z+zc))\n",
    "\n",
    "    return points"
   ]
  },
  {
   "cell_type": "markdown",
   "metadata": {
    "id": "mB6i3wFLrnTg"
   },
   "source": [
    "## Quantum Encryption"
   ]
  },
  {
   "cell_type": "code",
   "execution_count": null,
   "metadata": {
    "colab": {
     "base_uri": "https://localhost:8080/",
     "height": 265
    },
    "id": "FbcvXf8UrsUs",
    "outputId": "df8d3d00-f410-4b6c-d124-c0e8e339dce4"
   },
   "outputs": [],
   "source": [
    "# ata\n",
    "\n",
    "lamb = 1E10\n",
    "Nbody = 500\n",
    "\n",
    "xyz = np.linspace(-1,1,Nbody)\n",
    "\n",
    "A = 20*np.cos(2*np.pi/lamb * xyz)\n",
    "\n",
    "points = fibonacci(Nbody,A,20,20,20)\n",
    "\n",
    "fig = plt.figure()\n",
    "ax = plt.axes(projection='3d')\n",
    "ax.scatter3D(np.transpose(points)[0],np.transpose(points)[1],np.transpose(points)[2])"
   ]
  },
  {
   "cell_type": "code",
   "execution_count": null,
   "metadata": {},
   "outputs": [],
   "source": [
    "# Data encrypted by Quantum\n",
    "\n",
    "fig = plt.figure()\n",
    "ax = plt.axes(projection='3d')\n",
    "\n",
    "lamb = 1E-10\n",
    "xyz = np.linspace(-1,1,Nbody)\n",
    "\n",
    "def frame(w):\n",
    "  ax.clear()\n",
    "  global lamb\n",
    "\n",
    "  A = 1*np.cos(2*np.pi/lamb * xyz)\n",
    "\n",
    "  points = fibonacci_sphere(Nbody,A,20,20,20)\n",
    "\n",
    "  plot = ax.scatter3D(np.transpose(points)[0],np.transpose(points)[1],np.transpose(points)[2])\n",
    "  plot = ax.plot3D(np.transpose(points)[0],np.transpose(points)[1],np.transpose(points)[2],color='r',alpha=0.4)\n",
    "  #ax.axis(xmin=0,xmax=50)\n",
    "  #ax.axis(ymin=0,ymax=50)\n",
    "  #ax.set_zlim(0,50)\n",
    "\n",
    "  lamb*=1.2\n",
    "\n",
    "  return plot\n",
    "\n",
    "plt.close()\n",
    "\n",
    "anim = animation.FuncAnimation(fig, frame, frames=400, blit=False, repeat=True)\n",
    "anim"
   ]
  },
  {
   "cell_type": "code",
   "execution_count": null,
   "metadata": {
    "colab": {
     "base_uri": "https://localhost:8080/",
     "height": 387
    },
    "id": "Ot45QQZtC8Jn",
    "outputId": "0d2933eb-2780-47a2-9e6a-1174f13ddad2",
    "scrolled": true
   },
   "outputs": [],
   "source": [
    "# Data encrypted by Quantum\n",
    "\n",
    "fig = plt.figure()\n",
    "ax = plt.axes(projection='3d')\n",
    "\n",
    "lamb = 1E-10\n",
    "xyz = np.linspace(-1,1,Nbody)\n",
    "\n",
    "def frame(w):\n",
    "  ax.clear()\n",
    "  global lamb\n",
    "\n",
    "  A = 1*np.cos(2*np.pi/lamb * xyz)\n",
    "\n",
    "  B = 1*np.sin(2*np.pi/lamb * xyz)\n",
    "\n",
    "  points = fibonacci_sphere(Nbody,A,20,20,20) + fibonacci_sphere(Nbody,B,22,22,20) \n",
    "\n",
    "  plot = ax.scatter3D(np.transpose(points)[0],np.transpose(points)[1],np.transpose(points)[2])\n",
    "  plot = ax.plot3D(np.transpose(points)[0],np.transpose(points)[1],np.transpose(points)[2],color='r',alpha=0.4)\n",
    "  #ax.axis(xmin=0,xmax=50)\n",
    "  #ax.axis(ymin=0,ymax=50)\n",
    "  #ax.set_zlim(0,50)\n",
    "\n",
    "  lamb*=1.2\n",
    "\n",
    "  return plot\n",
    "\n",
    "plt.close()\n",
    "\n",
    "anim = animation.FuncAnimation(fig, frame, frames=400, blit=False, repeat=True)\n",
    "anim"
   ]
  },
  {
   "cell_type": "code",
   "execution_count": null,
   "metadata": {},
   "outputs": [],
   "source": [
    "# Data encrypted by Quantum\n",
    "\n",
    "fig = plt.figure()\n",
    "ax = plt.axes(projection='3d')\n",
    "\n",
    "lamb = 1E-10\n",
    "dsdt = 0\n",
    "a = 0\n",
    "t = 0\n",
    "u = 0.01\n",
    "\n",
    "xyz = np.linspace(-1,1,Nbody)\n",
    "\n",
    "#animation.embed_limit = 22076560\n",
    "\n",
    "def frame(w):\n",
    "  ax.clear()\n",
    "  global lamb\n",
    "  global dsdt\n",
    "  global u\n",
    "  global a\n",
    "  global t\n",
    "\n",
    "  A = 1*np.cos(2*np.pi/lamb * xyz)\n",
    "\n",
    "  B = 1*np.sin(2*np.pi/lamb * xyz)\n",
    "\n",
    "  C = 1*np.tan(2*np.pi/lamb * xyz)\n",
    "\n",
    "  points = fibonacci_sphere(Nbody,A,21,21,20) + fibonacci_sphere(Nbody,B,22,22,18)\n",
    "\n",
    "  dsdt += (u+a*t) # velocity\n",
    "\n",
    "  plot = ax.scatter3D(np.transpose(points)[0]+dsdt,np.transpose(points)[1]+dsdt,np.transpose(points)[2]+dsdt)\n",
    "  plot = ax.plot3D(np.transpose(points)[0]+dsdt,np.transpose(points)[1]+dsdt,np.transpose(points)[2]+dsdt,color='b',alpha=0.4)\n",
    "  ax.axis(xmin=20,xmax=24)\n",
    "  ax.axis(ymin=20,ymax=24)\n",
    "  ax.set_zlim(19,22)\n",
    "  #fig.set_facecolor('black')\n",
    "  #ax.set_facecolor('black') \n",
    "  #ax.grid(False) \n",
    "  #ax.w_xaxis.pane.fill = False\n",
    "  #ax.w_yaxis.pane.fill = False\n",
    "  #ax.w_zaxis.pane.fill = False\n",
    "\n",
    "  lamb*=1.2\n",
    "  t+=1\n",
    "\n",
    "  return plot\n",
    "\n",
    "plt.close()\n",
    "\n",
    "anim = animation.FuncAnimation(fig, frame, frames=200, blit=False, repeat=True)\n",
    "anim"
   ]
  },
  {
   "cell_type": "code",
   "execution_count": null,
   "metadata": {},
   "outputs": [],
   "source": [
    "# Data encrypted by Quantum\n",
    "\n",
    "fig = plt.figure()\n",
    "ax = plt.axes(projection='3d')\n",
    "\n",
    "lamb = 1E-10\n",
    "dsdt = [0,0,0]\n",
    "a = 0\n",
    "t = 0\n",
    "u = 0.2\n",
    "\n",
    "xyz = np.linspace(-1,1,Nbody)\n",
    "\n",
    "#animation.embed_limit = 22076560\n",
    "\n",
    "def frame(w):\n",
    "  ax.clear()\n",
    "  global lamb\n",
    "  global dsdt\n",
    "  global u\n",
    "  global a\n",
    "  global t\n",
    "\n",
    "  A = 1*np.cos(2*np.pi/lamb * xyz)\n",
    "\n",
    "  B = 1*np.sin(2*np.pi/lamb * xyz)\n",
    "\n",
    "  C = 1*np.tan(2*np.pi/lamb * xyz)\n",
    "\n",
    "  D = 0.5*np.arctan(2*np.pi/lamb * xyz) # gravity candidate\n",
    "\n",
    "  points = np.array(fibonacci_sphere(Nbody,D,21,21,20)) * (np.array([D,D,D]).T)\n",
    "\n",
    "  dsdt[0] += (u+a*t) # x velocity\n",
    "  dsdt[1] += 0 # y velocity\n",
    "  dsdt[2] += 0 # z velocity\n",
    "\n",
    "  plot = ax.scatter3D(np.transpose(points)[0]+dsdt[0],np.transpose(points)[1]+dsdt[1],np.transpose(points)[2]+dsdt[2])\n",
    "  plot = ax.plot3D(np.transpose(points)[0]+dsdt[0],np.transpose(points)[1]+dsdt[1],np.transpose(points)[2]+dsdt[2],color='b',alpha=0.4)\n",
    "  #ax.axis(xmin=-30,xmax=30)\n",
    "  #ax.axis(ymin=-30,ymax=30)\n",
    "  #ax.set_zlim(-30,30)\n",
    "\n",
    "  lamb*=1.2\n",
    "  t+=1\n",
    "\n",
    "  return plot\n",
    "\n",
    "plt.close()\n",
    "\n",
    "anim = animation.FuncAnimation(fig, frame, frames=200, blit=False, repeat=True)\n",
    "anim"
   ]
  },
  {
   "cell_type": "code",
   "execution_count": null,
   "metadata": {},
   "outputs": [],
   "source": [
    "# Data encrypted by Quantum\n",
    "\n",
    "fig = plt.figure()\n",
    "ax = plt.axes(projection='3d')\n",
    "\n",
    "lamb = 1E-10\n",
    "dsdt = [0,0,0]\n",
    "a = 0\n",
    "t = 0\n",
    "u = 0.2\n",
    "\n",
    "xyz = np.linspace(-1,1,Nbody)\n",
    "\n",
    "#animation.embed_limit = 22076560\n",
    "\n",
    "def frame(w):\n",
    "  ax.clear()\n",
    "  global lamb\n",
    "  global dsdt\n",
    "  global u\n",
    "  global a\n",
    "  global t\n",
    "\n",
    "  A = 1*np.cos(2*np.pi/lamb * xyz)\n",
    "\n",
    "  B = 1*np.sin(2*np.pi/lamb * xyz)\n",
    "\n",
    "  C = 1*np.tan(2*np.pi/lamb * xyz)\n",
    "\n",
    "  D = 0.5*np.arctan(2*np.pi/lamb * xyz) # gravity candidate\n",
    "\n",
    "  points = np.array(fibonacci_sphere(Nbody,A,21,21,20)) * (np.array([B,xyz,xyz]).T)\n",
    "\n",
    "  dsdt[0] += (u+a*t) # x velocity\n",
    "  dsdt[1] += 0 # y velocity\n",
    "  dsdt[2] += 0 # z velocity\n",
    "\n",
    "  plot = ax.scatter3D(np.transpose(points)[0]+dsdt[0],np.transpose(points)[1]+dsdt[1],np.transpose(points)[2]+dsdt[2])\n",
    "  plot = ax.plot3D(np.transpose(points)[0]+dsdt[0],np.transpose(points)[1]+dsdt[1],np.transpose(points)[2]+dsdt[2],color='b',alpha=0.4)\n",
    "  #ax.axis(xmin=-30,xmax=30)\n",
    "  #ax.axis(ymin=-30,ymax=30)\n",
    "  #ax.set_zlim(-30,30)\n",
    "\n",
    "  lamb*=1.05  #1.2, #1.05\n",
    "  t+=1\n",
    "\n",
    "  return plot\n",
    "\n",
    "plt.close()\n",
    "\n",
    "anim = animation.FuncAnimation(fig, frame, frames=200, blit=False, repeat=True)\n",
    "anim"
   ]
  },
  {
   "cell_type": "code",
   "execution_count": null,
   "metadata": {},
   "outputs": [],
   "source": [
    "# Data encrypted by Quantum\n",
    "\n",
    "fig = plt.figure()\n",
    "ax = plt.axes(projection='3d')\n",
    "\n",
    "lamb = 1E-10\n",
    "dsdt = [0,0,0]\n",
    "a = 0\n",
    "t = 0\n",
    "u = 0.2\n",
    "\n",
    "xyz = np.linspace(-1,1,Nbody)\n",
    "\n",
    "#animation.embed_limit = 22076560\n",
    "\n",
    "def frame(w):\n",
    "  ax.clear()\n",
    "  global lamb\n",
    "  global dsdt\n",
    "  global u\n",
    "  global a\n",
    "  global t\n",
    "\n",
    "  A = 1*np.cos(2*np.pi/lamb * xyz)\n",
    "\n",
    "  B = 1*np.sin(2*np.pi/lamb * xyz)\n",
    "\n",
    "  C = 1*np.tan(2*np.pi/lamb * xyz)\n",
    "\n",
    "  D = 0.5*np.arctan(2*np.pi/lamb * xyz) # gravity candidate\n",
    "\n",
    "  points = np.array(fibonacci_sphere(Nbody,B,21,21,20)) * (np.array([B,A,A]).T)\n",
    "\n",
    "  dsdt[0] += (u+a*t) # x velocity\n",
    "  dsdt[1] += 0 # y velocity\n",
    "  dsdt[2] += 0 # z velocity\n",
    "\n",
    "  plot = ax.scatter3D(np.transpose(points)[0]+dsdt[0],np.transpose(points)[1]+dsdt[1],np.transpose(points)[2]+dsdt[2])\n",
    "  plot = ax.plot3D(np.transpose(points)[0]+dsdt[0],np.transpose(points)[1]+dsdt[1],np.transpose(points)[2]+dsdt[2],color='b',alpha=0.4)\n",
    "  #ax.axis(xmin=-30,xmax=30)\n",
    "  #ax.axis(ymin=-30,ymax=30)\n",
    "  #ax.set_zlim(-30,30)\n",
    "\n",
    "  lamb*=1.2\n",
    "  t+=1\n",
    "\n",
    "  return plot\n",
    "\n",
    "plt.close()\n",
    "\n",
    "anim = animation.FuncAnimation(fig, frame, frames=200, blit=False, repeat=True)\n",
    "anim"
   ]
  },
  {
   "cell_type": "code",
   "execution_count": null,
   "metadata": {},
   "outputs": [],
   "source": [
    "# Data encrypted by Quantum\n",
    "\n",
    "fig = plt.figure()\n",
    "ax = plt.axes(projection='3d')\n",
    "\n",
    "lamb = 1E-10\n",
    "dsdt = 0\n",
    "a = 0\n",
    "t = 0\n",
    "u = -0.1\n",
    "\n",
    "xyz = np.linspace(-1,1,Nbody)\n",
    "\n",
    "#animation.embed_limit = 22076560\n",
    "\n",
    "def frame(w):\n",
    "  ax.clear()\n",
    "  global lamb\n",
    "  global dsdt\n",
    "  global u\n",
    "  global a\n",
    "  global t\n",
    "\n",
    "  A = 1*np.cos(2*np.pi/lamb * xyz)\n",
    "\n",
    "  B = 1*np.sin(2*np.pi/lamb * xyz)\n",
    "\n",
    "  C = 1*np.tan(2*np.pi/lamb * xyz)\n",
    "\n",
    "  D = 0.5*np.arctan(2*np.pi/lamb * xyz) # gravity candidate\n",
    "\n",
    "  points = np.array(fibonacci_sphere(Nbody,D,21,21,20)) * (np.array([D,D,D]).T)**2\n",
    "\n",
    "  dsdt += (u+a*t) # velocity\n",
    "\n",
    "  plot = ax.scatter3D(np.transpose(points)[0]+dsdt,np.transpose(points)[1]+dsdt,np.transpose(points)[2]+dsdt)\n",
    "  plot = ax.plot3D(np.transpose(points)[0]+dsdt,np.transpose(points)[1]+dsdt,np.transpose(points)[2]+dsdt,color='b',alpha=0.4)\n",
    "  ax.axis(xmin=-30,xmax=30)\n",
    "  ax.axis(ymin=-30,ymax=30)\n",
    "  ax.set_zlim(-30,30)\n",
    "\n",
    "  lamb*=1.2\n",
    "  t+=1\n",
    "\n",
    "  return plot\n",
    "\n",
    "plt.close()\n",
    "\n",
    "anim = animation.FuncAnimation(fig, frame, frames=200, blit=False, repeat=True)\n",
    "anim"
   ]
  },
  {
   "cell_type": "code",
   "execution_count": null,
   "metadata": {},
   "outputs": [],
   "source": [
    "# Data encrypted by Quantum\n",
    "\n",
    "fig = plt.figure()\n",
    "ax = plt.axes(projection='3d')\n",
    "\n",
    "lamb = 1E-10\n",
    "dsdt = [0,0,0]\n",
    "a = 0\n",
    "t = 0\n",
    "u = 0.2\n",
    "\n",
    "xyz = np.linspace(-1,1,Nbody)\n",
    "\n",
    "#animation.embed_limit = 22076560\n",
    "\n",
    "def frame(w):\n",
    "  ax.clear()\n",
    "  global lamb\n",
    "  global dsdt\n",
    "  global u\n",
    "  global a\n",
    "  global t\n",
    "\n",
    "  A = 1*np.cos(2*np.pi/lamb * xyz)\n",
    "\n",
    "  B = 1*np.sin(2*np.pi/lamb * xyz)\n",
    "\n",
    "  C = 1*np.tan(2*np.pi/lamb * xyz)\n",
    "\n",
    "  D = 0.5*np.arctan(2*np.pi/lamb * xyz) # gravity candidate\n",
    "\n",
    "  points = np.array(fibonacci_sphere(Nbody,C,21,21,20)) * (np.array([D,D,D]).T)\n",
    "\n",
    "  dsdt[0] += (u+a*t) # x velocity\n",
    "  dsdt[1] += 0 # y velocity\n",
    "  dsdt[2] += 0 # z velocity\n",
    "\n",
    "  plot = ax.scatter3D(np.transpose(points)[0]+dsdt[0],np.transpose(points)[1]+dsdt[1],np.transpose(points)[2]+dsdt[2])\n",
    "  plot = ax.plot3D(np.transpose(points)[0]+dsdt[0],np.transpose(points)[1]+dsdt[1],np.transpose(points)[2]+dsdt[2],color='b',alpha=0.4)\n",
    "  ax.axis(xmin=-30,xmax=30)\n",
    "  ax.axis(ymin=-30,ymax=30)\n",
    "  ax.set_zlim(-30,30)\n",
    "\n",
    "  lamb*=1.2\n",
    "  t+=1\n",
    "\n",
    "  return plot\n",
    "\n",
    "plt.close()\n",
    "\n",
    "anim = animation.FuncAnimation(fig, frame, frames=200, blit=False, repeat=True)\n",
    "anim"
   ]
  },
  {
   "cell_type": "code",
   "execution_count": null,
   "metadata": {},
   "outputs": [],
   "source": [
    "# Data encrypted by Quantum\n",
    "\n",
    "fig = plt.figure()\n",
    "ax = plt.axes(projection='3d')\n",
    "\n",
    "lamb = 1E-10\n",
    "dsdt = [0,0,0]\n",
    "a = 0\n",
    "t = 0\n",
    "u = 0.2\n",
    "\n",
    "xyz = np.linspace(-1,1,Nbody)\n",
    "\n",
    "#animation.embed_limit = 22076560\n",
    "\n",
    "def frame(w):\n",
    "  ax.clear()\n",
    "  global lamb\n",
    "  global dsdt\n",
    "  global u\n",
    "  global a\n",
    "  global t\n",
    "\n",
    "  A = 1*np.cos(2*np.pi/lamb * xyz)\n",
    "\n",
    "  B = 1*np.sin(2*np.pi/lamb * xyz)\n",
    "\n",
    "  C = 1*np.tan(2*np.pi/lamb * xyz)\n",
    "\n",
    "  D = 0.5*np.arctan(2*np.pi/lamb * xyz) # gravity candidate\n",
    "\n",
    "  points = np.array(fibonacci_sphere(Nbody,A,21,21,20)) * (np.array([D,D,A]).T)\n",
    "\n",
    "  dsdt[0] += (u+a*t) # x velocity\n",
    "  dsdt[1] += 0 # y velocity\n",
    "  dsdt[2] += 0 # z velocity\n",
    "\n",
    "  plot = ax.scatter3D(np.transpose(points)[0]+dsdt[0],np.transpose(points)[1]+dsdt[1],np.transpose(points)[2]+dsdt[2])\n",
    "  plot = ax.plot3D(np.transpose(points)[0]+dsdt[0],np.transpose(points)[1]+dsdt[1],np.transpose(points)[2]+dsdt[2],color='b',alpha=0.4)\n",
    "  #ax.axis(xmin=-50,xmax=50)\n",
    "  #ax.axis(ymin=-50,ymax=50)\n",
    "  #ax.set_zlim(-30,30)\n",
    "\n",
    "  lamb*=1.2\n",
    "  t+=1\n",
    "\n",
    "  return plot\n",
    "\n",
    "plt.close()\n",
    "\n",
    "anim = animation.FuncAnimation(fig, frame, frames=200, blit=False, repeat=True)\n",
    "anim"
   ]
  },
  {
   "cell_type": "code",
   "execution_count": null,
   "metadata": {
    "colab": {
     "base_uri": "https://localhost:8080/",
     "height": 387
    },
    "id": "vRBSGFvir00z",
    "outputId": "59e53b5e-b16e-4874-924b-3e3d58f2affa"
   },
   "outputs": [],
   "source": [
    "fig = plt.figure()\n",
    "ax = plt.axes(projection='3d')\n",
    "\n",
    "lamb = 1E-10\n",
    "xyz = np.linspace(-1,1,Nbody)\n",
    "\n",
    "def frame(w):\n",
    "  ax.clear()\n",
    "  global lamb\n",
    "\n",
    "  A = 20*np.cos(2*np.pi/lamb * xyz)\n",
    "\n",
    "  B = 10*np.cos(2*np.pi/lamb * xyz)\n",
    "\n",
    "  points = fibonacci_sphere(Nbody,A,20,20,20) + fibonacci_sphere(Nbody,B,20,20,20) + fibonacci_sphere(Nbody,B,80,80,80)\n",
    "\n",
    "  plot = ax.scatter3D(np.transpose(points)[0],np.transpose(points)[1],np.transpose(points)[2])\n",
    "\n",
    "  lamb*=0.25E1\n",
    "\n",
    "  return plot\n",
    "\n",
    "plt.close()\n",
    "\n",
    "anim = animation.FuncAnimation(fig, frame, frames=40, blit=False, repeat=True)\n",
    "anim"
   ]
  },
  {
   "cell_type": "markdown",
   "metadata": {
    "id": "0kozYMY0gB7s"
   },
   "source": [
    "## Machine Learning Encryption"
   ]
  },
  {
   "cell_type": "code",
   "execution_count": null,
   "metadata": {},
   "outputs": [],
   "source": [
    "def order_gen(xmin,xmax, xpoints,ymin,ymax,ypoints,zmin,zmax,zpoints):\n",
    "    \n",
    "    x_ = np.linspace(xmin, xmax, xpoints)\n",
    "    y_ = np.linspace(ymin, ymax, ypoints)\n",
    "    z_ = np.linspace(zmin, zmax, zpoints)\n",
    "\n",
    "    x, y, z = np.meshgrid(x_, y_, z_, indexing='ij')\n",
    "\n",
    "    order_xMatrix = np.vstack([x[:,0,0]]*(T+1))\n",
    "    order_yMatrix = np.vstack([y[:,0,0]]*(T+1))\n",
    "    order_zMatrix = np.vstack([z[:,0,0]]*(T+1))\n",
    "\n",
    "    order_xtrained = np.transpose(order_xMatrix) + np.array(xtrained)[:,:,0] - 20\n",
    "    order_ytrained = np.transpose(order_yMatrix) + np.array(ytrained)[:,:,0] - 20\n",
    "    order_ztrained = np.transpose(order_zMatrix) + np.array(ztrained)[:,:,0] - 20\n",
    "    \n",
    "    return order_xMatrix, order_yMatrix, order_zMatrix "
   ]
  },
  {
   "cell_type": "code",
   "execution_count": null,
   "metadata": {
    "id": "UyzoHZlHS9v-"
   },
   "outputs": [],
   "source": [
    "def generator3D(xdata, ydata, zdata, order):\n",
    "    \n",
    "  order_xMatrix, order_yMatrix, order_zMatrix  = order_gen(min(xdata),max(xdata),len(xtrained),\n",
    "                                                           min(ydata),max(ydata),len(ytrained),\n",
    "                                                           min(zdata),max(zdata),len(ztrained))\n",
    "\n",
    "  \n",
    "  amount = len(xdata)\n",
    "  most_random = 0*np.ones([amount,21])\n",
    "  distance_rand = ((most_random - np.transpose(order_xMatrix))**2 + (most_random - np.transpose(order_yMatrix))**2+ (most_random - np.transpose(order_zMatrix))**2)**0.5\n",
    "  distance_sum_rand = np.sum(distance_rand**2, axis = 0)\n",
    "  order_amount = (distance_sum_rand / (Nbody**0.5 *((max(xdata)-min(xdata))**2+(max(ydata)-min(ydata))**2+(max(zdata)-min(zdata))**2)))**0.5  # amount of order\n",
    "  most_random_factor = np.round(order_amount[0],3)\n",
    "  \n",
    "  distance_sum = amount*order*most_random_factor*((max(xdata)-min(xdata))**2+(max(ydata)-min(ydata))**2+(max(zdata)-min(zdata))**2)**0.5  # amount of order\n",
    "  \n",
    "  av_distance = distance_sum/amount\n",
    "\n",
    "  distance = av_distance*np.random.rand(amount)\n",
    "  \n",
    "  theta = 2*np.pi *np.random.rand(amount)\n",
    "  phi = 2*np.pi *np.random.rand(amount) - np.pi\n",
    "\n",
    "  # spherical coordinates\n",
    "  xdist = abs(distance*abs(np.transpose(np.cos(theta)*np.sin(phi))))\n",
    "  ydist = abs(distance*abs(np.transpose(np.sin(theta)*np.sin(phi))))\n",
    "  zdist = abs(distance*abs(np.transpose(np.cos(phi))))\n",
    "\n",
    "  genx = (most_random_factor - order*most_random_factor)*(xdata + xdist)/most_random_factor\n",
    "  geny = (most_random_factor - order*most_random_factor)*(ydata + ydist)/most_random_factor\n",
    "  genz = (most_random_factor - order*most_random_factor)*(zdata + zdist)/most_random_factor\n",
    "  \n",
    "  return genx, geny, genz"
   ]
  },
  {
   "cell_type": "code",
   "execution_count": null,
   "metadata": {
    "id": "WUWeOqNXUpTl"
   },
   "outputs": [],
   "source": [
    "# Data\n",
    "\n",
    "Nbody = len(xtrained)\n",
    "lamb = 1E10\n",
    "xyz = np.linspace(-1,1,Nbody)\n",
    "\n",
    "A = 20*np.cos(2*np.pi/lamb * xyz)\n",
    "B = 10*np.cos(2*np.pi/lamb * xyz)\n",
    "\n",
    "points = fibonacci_sphere(round(Nbody/2),A,20,20,20) + fibonacci_sphere(round(Nbody/2),B,20,20,20)\n",
    "\n",
    "x_ordered_sphere = np.transpose(points)[0]\n",
    "y_ordered_sphere = np.transpose(points)[1]\n",
    "z_ordered_sphere = np.transpose(points)[2]"
   ]
  },
  {
   "cell_type": "code",
   "execution_count": null,
   "metadata": {
    "colab": {
     "base_uri": "https://localhost:8080/",
     "height": 387
    },
    "id": "oVR5CcCRM83m",
    "outputId": "6cbeff4a-08b9-4bf5-ee1f-5f8b71cdc82b",
    "scrolled": true
   },
   "outputs": [],
   "source": [
    "# Data encrypted by machine learning\n",
    "\n",
    "fig = plt.figure()\n",
    "ax = plt.axes(projection='3d')\n",
    "\n",
    "order = 1\n",
    "\n",
    "def frame(w):\n",
    "  ax.clear()\n",
    "  global order\n",
    "\n",
    "  xg, yg, zg = generator3D(x_ordered_sphere,y_ordered_sphere,z_ordered_sphere,order)\n",
    "\n",
    "  plot = ax.scatter3D(xg,yg,zg)\n",
    "  ax.set_xlim(0,40)\n",
    "  ax.set_ylim(0,40)\n",
    "  ax.set_zlim(0,40)\n",
    "\n",
    "  order-=0.01\n",
    "\n",
    "  return plot\n",
    "\n",
    "plt.close()\n",
    "\n",
    "anim = animation.FuncAnimation(fig, frame, frames=101, blit=False, repeat=True)\n",
    "anim"
   ]
  },
  {
   "cell_type": "code",
   "execution_count": null,
   "metadata": {},
   "outputs": [],
   "source": [
    "# Data encrypted by machine learning\n",
    "\n",
    "fig = plt.figure()\n",
    "ax = plt.axes(projection='3d')\n",
    "\n",
    "order = 1\n",
    "\n",
    "def frame(w):\n",
    "  ax.clear()\n",
    "  global order\n",
    "\n",
    "  xg, yg, zg = generator3D(x_ordered_sphere,y_ordered_sphere,z_ordered_sphere,order)\n",
    "\n",
    "  plot = ax.scatter3D(xg,yg,zg)\n",
    "  ax.set_xlim(0,40)\n",
    "  ax.set_ylim(0,40)\n",
    "  ax.set_zlim(0,40)\n",
    "\n",
    "  order-=0.01\n",
    "\n",
    "  return plot\n",
    "\n",
    "plt.close()\n",
    "\n",
    "anim = animation.FuncAnimation(fig, frame, frames=101, blit=False, repeat=True)\n",
    "anim"
   ]
  },
  {
   "cell_type": "markdown",
   "metadata": {},
   "source": [
    "Quantum Machine Secure Encoding"
   ]
  },
  {
   "cell_type": "code",
   "execution_count": null,
   "metadata": {},
   "outputs": [],
   "source": [
    "# Data\n",
    "\n",
    "Nbody = len(xtrained)\n",
    "lamb = 1E10\n",
    "xyz = np.linspace(-1,1,Nbody)\n",
    "\n",
    "A = 20*np.cos(2*np.pi/lamb * xyz)\n",
    "B = 10*np.cos(2*np.pi/lamb * xyz)\n",
    "\n",
    "points = fibonacci_sphere(round(Nbody/2),A,20,20,20) + fibonacci_sphere(round(Nbody/2),B,20,20,20)\n",
    "\n",
    "x_ordered_sphere = np.transpose(points)[0]\n",
    "y_ordered_sphere = np.transpose(points)[1]\n",
    "z_ordered_sphere = np.transpose(points)[2]"
   ]
  },
  {
   "cell_type": "code",
   "execution_count": null,
   "metadata": {},
   "outputs": [],
   "source": [
    "# Data encrypted by Quantum\n",
    "\n",
    "fig = plt.figure()\n",
    "ax = plt.axes(projection='3d')\n",
    "\n",
    "lamb = 1E-10\n",
    "xyz = np.linspace(-1,1,Nbody)\n",
    "order = 1\n",
    "\n",
    "def frame(w):\n",
    "  ax.clear()\n",
    "  global lamb\n",
    "  global order\n",
    "\n",
    "  A = 20*np.cos(2*np.pi/lamb * xyz)\n",
    "  B = 10*np.cos(2*np.pi/lamb * xyz)\n",
    "\n",
    "  \n",
    "\n",
    "  points = A # quantum\n",
    "\n",
    "  xg, yg, zg = generator3D(x_ordered_sphere,y_ordered_sphere,z_ordered_sphere,order) # machine learning\n",
    "\n",
    "  plot = ax.scatter3D(xg+np.transpose(points)[0],yg+np.transpose(points)[1],zg+np.transpose(points)[2])\n",
    "  ax.set_xlim(0,75)\n",
    "  ax.set_ylim(0,75)\n",
    "  ax.set_zlim(0,75)\n",
    "\n",
    "  lamb = 1E-5\n",
    "  order-=0.01\n",
    "\n",
    "  return plot\n",
    "\n",
    "plt.close()\n",
    "\n",
    "anim = animation.FuncAnimation(fig, frame, frames=200, blit=False, repeat=True)\n",
    "anim"
   ]
  },
  {
   "cell_type": "markdown",
   "metadata": {},
   "source": [
    "Quantum Machine Network Transfer"
   ]
  },
  {
   "cell_type": "code",
   "execution_count": null,
   "metadata": {},
   "outputs": [],
   "source": [
    "def generator3D(xdata, ydata, zdata, order):\n",
    "    \n",
    "  order_xMatrix, order_yMatrix, order_zMatrix  = order_gen(min(xdata),max(xdata),len(xtrained),\n",
    "                                                           min(ydata),max(ydata),len(ytrained),\n",
    "                                                           min(zdata),max(zdata),len(ztrained))\n",
    "\n",
    "  \n",
    "  amount = len(xdata)\n",
    "  most_random = 100*np.ones([amount,21])\n",
    "  distance_rand = ((most_random - np.transpose(order_xMatrix))**2 + (most_random - np.transpose(order_yMatrix))**2+ (most_random - np.transpose(order_zMatrix))**2)**0.5\n",
    "  distance_sum_rand = np.sum(distance_rand**2, axis = 0)\n",
    "  order_amount = (distance_sum_rand / (Nbody**0.5 *((max(xdata)-min(xdata))**2+(max(ydata)-min(ydata))**2+(max(zdata)-min(zdata))**2)))**0.5  # amount of order\n",
    "  most_random_factor = np.round(order_amount[0],3)\n",
    "  \n",
    "  distance_sum = amount*order*most_random_factor*((max(xdata)-min(xdata))**2+(max(ydata)-min(ydata))**2+(max(zdata)-min(zdata))**2)**0.5  # amount of order\n",
    "  \n",
    "  av_distance = distance_sum/amount\n",
    "\n",
    "  distance = av_distance*np.random.rand(amount)\n",
    "  \n",
    "  theta = 2*np.pi *np.random.rand(amount)\n",
    "  phi = 2*np.pi *np.random.rand(amount) - np.pi\n",
    "\n",
    "  # spherical coordinates\n",
    "  xdist = abs(distance*abs(np.transpose(np.cos(theta)*np.sin(phi))))\n",
    "  ydist = abs(distance*abs(np.transpose(np.sin(theta)*np.sin(phi))))\n",
    "  zdist = abs(distance*abs(np.transpose(np.cos(phi))))\n",
    "\n",
    "  genx = (most_random_factor - order*most_random_factor)*(xdata + xdist)/most_random_factor\n",
    "  geny = (most_random_factor - order*most_random_factor)*(ydata + ydist)/most_random_factor\n",
    "  genz = (most_random_factor - order*most_random_factor)*(zdata + zdist)/most_random_factor\n",
    "  \n",
    "  return genx, geny, genz  #, [distance, theta, phi]"
   ]
  },
  {
   "cell_type": "code",
   "execution_count": null,
   "metadata": {},
   "outputs": [],
   "source": [
    "# Data\n",
    "\n",
    "Nbody = len(xtrained)\n",
    "lamb = 1E10\n",
    "xyz = np.linspace(-1,1,Nbody)\n",
    "\n",
    "A = 20*np.cos(2*np.pi/lamb * xyz)\n",
    "B = 10*np.cos(2*np.pi/lamb * xyz)\n",
    "\n",
    "points = fibonacci_sphere(round(Nbody/3+1),A,20,20,20) + fibonacci_sphere(round(Nbody/3),B,150,50,50) + fibonacci_sphere(round(Nbody/3),A,20,130,80)\n",
    "\n",
    "x_ordered_sphere = np.transpose(points)[0]\n",
    "y_ordered_sphere = np.transpose(points)[1]\n",
    "z_ordered_sphere = np.transpose(points)[2]"
   ]
  },
  {
   "cell_type": "code",
   "execution_count": null,
   "metadata": {},
   "outputs": [],
   "source": [
    "# Data encrypted by Quantum\n",
    "\n",
    "fig = plt.figure()\n",
    "ax = plt.axes(projection='3d')\n",
    "\n",
    "lamb = 1E-10\n",
    "xyz = np.linspace(-1,1,Nbody)\n",
    "order = 1\n",
    "\n",
    "def frame(w):\n",
    "  ax.clear()\n",
    "  global lamb\n",
    "  global order\n",
    "\n",
    "  A = 10*np.cos(2*np.pi/lamb * xyz)\n",
    "  B = 20*np.cos(2*np.pi/lamb * xyz +90)\n",
    "\n",
    "  \n",
    "\n",
    "  points = fibonacci_sphere(round(Nbody),A,500,500,500)\n",
    "\n",
    "  xg, yg, zg = generator3D(x_ordered_sphere,y_ordered_sphere,z_ordered_sphere,order)  # machine learning\n",
    "\n",
    "  plot = ax.scatter3D(xg,yg,zg)\n",
    "  #ax.set_xlim(0,1000)\n",
    "  #ax.set_ylim(0,1000)\n",
    "  #ax.set_zlim(0,1000)\n",
    "\n",
    "  lamb = 1E-5\n",
    "  order-=0.01\n",
    "\n",
    "  return plot\n",
    "\n",
    "plt.close()\n",
    "\n",
    "anim = animation.FuncAnimation(fig, frame, frames=200, blit=False, repeat=True)\n",
    "anim"
   ]
  },
  {
   "cell_type": "code",
   "execution_count": null,
   "metadata": {},
   "outputs": [],
   "source": [
    "# Data encrypted by Quantum\n",
    "\n",
    "fig = plt.figure()\n",
    "ax = plt.axes(projection='3d')\n",
    "\n",
    "lamb = 1E-10\n",
    "xyz = np.linspace(-1,1,Nbody)\n",
    "order = 1\n",
    "\n",
    "def frame(w):\n",
    "  ax.clear()\n",
    "  global lamb\n",
    "  global order\n",
    "\n",
    "  A = 10*np.cos(2*np.pi/lamb * xyz)\n",
    "  B = 20*np.cos(2*np.pi/lamb * xyz +90)\n",
    "\n",
    "  \n",
    "\n",
    "  points = fibonacci_sphere(round(Nbody),A,500,500,500)\n",
    "\n",
    "  xg, yg, zg = generator3D(x_ordered_sphere,y_ordered_sphere,z_ordered_sphere,order)  # machine learning\n",
    "\n",
    "  plot = ax.scatter3D(xg,yg,zg)\n",
    "  #ax.set_xlim(0,1000)\n",
    "  #ax.set_ylim(0,1000)\n",
    "  #ax.set_zlim(0,1000)\n",
    "\n",
    "  lamb*=1.2\n",
    "  order-=0.01\n",
    "\n",
    "  return plot\n",
    "\n",
    "plt.close()\n",
    "\n",
    "anim = animation.FuncAnimation(fig, frame, frames=200, blit=False, repeat=True)\n",
    "anim"
   ]
  },
  {
   "cell_type": "markdown",
   "metadata": {},
   "source": [
    "# Image Encryption machine learning"
   ]
  },
  {
   "cell_type": "code",
   "execution_count": null,
   "metadata": {},
   "outputs": [],
   "source": [
    "import cv2\n",
    "from matplotlib import pyplot as plt\n",
    "\n",
    "im_rgb = cv2.imread(\"Images/World-Map-Board_Original-Map.jpg\")\n",
    "\n",
    "scale_percent = 304 / len(im_rgb[0])*len(im_rgb) / 100 # percent of original size\n",
    "width = int(im_rgb.shape[1] * scale_percent / 100)\n",
    "height = int(im_rgb.shape[0] * scale_percent / 100)\n",
    "dim = (width, height)\n",
    "\n",
    "im_rgb = cv2.resize(im_rgb, dim, interpolation = cv2.INTER_AREA)\n",
    "\n",
    "im_rgb = cv2.cvtColor(im_rgb, cv2.COLOR_BGR2RGB)\n",
    "\n",
    "\n",
    "\n",
    "plt.imshow(im_rgb)\n",
    "plt.show()"
   ]
  },
  {
   "cell_type": "code",
   "execution_count": null,
   "metadata": {},
   "outputs": [],
   "source": [
    "len(im_rgb[0])*len(im_rgb)"
   ]
  },
  {
   "cell_type": "code",
   "execution_count": null,
   "metadata": {},
   "outputs": [],
   "source": [
    "coordinates = np.argwhere(im_rgb)"
   ]
  },
  {
   "cell_type": "code",
   "execution_count": null,
   "metadata": {},
   "outputs": [],
   "source": [
    "order = 0\n",
    "\n",
    "xg, yg, zg = generator3D(coordinates[:,0],coordinates[:,1],coordinates[:,2],order)\n",
    "\n",
    "fig = plt.figure()\n",
    "ax = plt.axes(projection='3d')\n",
    "\n",
    "ax.scatter3D(xg,yg,zg)"
   ]
  },
  {
   "cell_type": "code",
   "execution_count": null,
   "metadata": {},
   "outputs": [],
   "source": [
    "# Data encrypted by machine learning\n",
    "\n",
    "order = 1\n",
    "\n",
    "xg2, yg2, zg2 = generator3D(coordinates[:,0],coordinates[:,1],coordinates[:,2],order)\n",
    "\n",
    "fig = plt.figure()\n",
    "ax = plt.axes(projection='3d')\n",
    "\n",
    "ax.scatter3D(xg2,yg2,zg2)"
   ]
  },
  {
   "cell_type": "code",
   "execution_count": null,
   "metadata": {
    "scrolled": true
   },
   "outputs": [],
   "source": [
    "    # Data encrypted by machine learning\n",
    "\n",
    "fig = plt.figure()\n",
    "ax = plt.axes(projection='3d')\n",
    "\n",
    "order = 1\n",
    "\n",
    "def frame(w):\n",
    "  ax.clear()\n",
    "  global order\n",
    "\n",
    "  xg, yg, zg = generator3D(coordinates[:,0],coordinates[:,1],coordinates[:,2],order)\n",
    "\n",
    "  plot = ax.scatter3D(xg,yg,zg)\n",
    "\n",
    "  order-=0.1\n",
    "\n",
    "  return plot\n",
    "\n",
    "plt.close()\n",
    "\n",
    "anim = animation.FuncAnimation(fig, frame, frames=10, blit=False, repeat=True)\n",
    "anim"
   ]
  },
  {
   "cell_type": "code",
   "execution_count": null,
   "metadata": {},
   "outputs": [],
   "source": [
    "\n",
    "\n",
    "# Convert back to PIL Image and re-apply original palette\n",
    "r = Image.fromarray([xg2,yg2,zg2],mode='P') \n",
    "r.putpalette(im.getpalette())\n",
    "\n",
    "# Optionally save\n",
    "r.save('result.png')"
   ]
  },
  {
   "cell_type": "code",
   "execution_count": null,
   "metadata": {},
   "outputs": [],
   "source": [
    "import matplotlib.pyplot as plt\n",
    "import numpy as np\n",
    "\n",
    "# Simulation parameters\n",
    "v0           = 3      # velocity\n",
    "eta          = 360     # random fluctuation in angle (in radians)\n",
    "Lx           = 70        # size of box\n",
    "Ly           = 40\n",
    "R            = 0.89      # interaction radius\n",
    "dt           = 0.1      # time step\n",
    "Nt           = 200      # number of time steps\n",
    "N            = 304      # number of birds\n",
    "plotRealTime = True\n",
    "\n",
    "# Initialize\n",
    "#np.random.seed(30)      # set the random number generator seed\n",
    "\n",
    "# bird positions\n",
    "x = np.random.rand(N,1)*Lx\n",
    "y = np.random.rand(N,1)*Ly\n",
    "\n",
    "x = np.array(ordered_orig['Center X']).reshape(304,1)\n",
    "y = np.array(ordered_orig['Center Y']).reshape(304,1)\n",
    "\n",
    "\n",
    "# bird velocities\n",
    "theta = 2 * np.pi * np.random.rand(N,1)\n",
    "vx = v0 * np.cos(theta)\n",
    "vy = v0 * np.sin(theta)\n",
    "\n",
    "# Prep figure\n",
    "fig = plt.figure(figsize=(6,6), dpi=96)\n",
    "ax = plt.gca()\n",
    "\n",
    "# Simulation Main Loop\n",
    "for i in range(Nt):\n",
    "\n",
    "    # move\n",
    "    x = x + vx*dt\n",
    "    y = y + vy*dt\n",
    "    \n",
    "    # apply periodic BCs\n",
    "    x = x % Lx\n",
    "    y = y % Ly\n",
    "    \n",
    "    # find mean angle of neighbors within R\n",
    "    mean_theta = theta\n",
    "    for b in range(N):\n",
    "        neighbors = (x-x[b])**2+(y-y[b])**2 < R**2\n",
    "        sx = np.sum(np.cos(theta[neighbors]))\n",
    "        sy = np.sum(np.sin(theta[neighbors]))\n",
    "        mean_theta[b] = np.arctan2(sy, sx)\n",
    "    \n",
    "    # add random perturbations\n",
    "    theta = mean_theta + eta*(np.random.rand(N,1)-0.5)\n",
    "    \n",
    "    # update velocities\n",
    "    vx = v0 * np.cos(theta)\n",
    "    vy = v0 * np.sin(theta)\n",
    "    \n",
    "    # plot in real time\n",
    "    if plotRealTime or (i == Nt-1):\n",
    "        plt.cla()\n",
    "        plt.scatter(x,y,s=0.8393, facecolors='none', edgecolors='r')\n",
    "        ax.set(xlim=(0, Lx), ylim=(0, Ly))\n",
    "        ax.set_aspect('equal')\n",
    "        plt.pause(0.001)\n",
    "        clear_output(wait=True)\n",
    "# Save figure\n",
    "plt.show()"
   ]
  },
  {
   "cell_type": "code",
   "execution_count": null,
   "metadata": {},
   "outputs": [],
   "source": []
  }
 ],
 "metadata": {
  "colab": {
   "collapsed_sections": [
    "oRZjJWkJ4i_a"
   ],
   "provenance": []
  },
  "kernelspec": {
   "display_name": "Python 3",
   "language": "python",
   "name": "python3"
  },
  "language_info": {
   "codemirror_mode": {
    "name": "ipython",
    "version": 3
   },
   "file_extension": ".py",
   "mimetype": "text/x-python",
   "name": "python",
   "nbconvert_exporter": "python",
   "pygments_lexer": "ipython3",
   "version": "3.10.0"
  },
  "vscode": {
   "interpreter": {
    "hash": "741705fd04575d5cacdec690caff461f1167aaabf0bb5ad81efc0420bba47e32"
   }
  }
 },
 "nbformat": 4,
 "nbformat_minor": 1
}
